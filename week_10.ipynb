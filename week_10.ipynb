{
  "nbformat": 4,
  "nbformat_minor": 0,
  "metadata": {
    "colab": {
      "provenance": [],
      "authorship_tag": "ABX9TyPnqASVSQk/GDoMoOX//2GO",
      "include_colab_link": true
    },
    "kernelspec": {
      "name": "python3",
      "display_name": "Python 3"
    },
    "language_info": {
      "name": "python"
    }
  },
  "cells": [
    {
      "cell_type": "markdown",
      "metadata": {
        "id": "view-in-github",
        "colab_type": "text"
      },
      "source": [
        "<a href=\"https://colab.research.google.com/github/faizdifak/faizdifakalgorit/blob/master/week_10.ipynb\" target=\"_parent\"><img src=\"https://colab.research.google.com/assets/colab-badge.svg\" alt=\"Open In Colab\"/></a>"
      ]
    },
    {
      "cell_type": "code",
      "source": [
        "def my_function(name):\n",
        "  print(name + \" \" + \"PSHT\")\n",
        "my_function(\"Agus\")\n",
        "my_function(\"Toni\")\n",
        "my_function(\"Gugun\")"
      ],
      "metadata": {
        "colab": {
          "base_uri": "https://localhost:8080/"
        },
        "id": "8hPZVt2InhU4",
        "outputId": "cfc43271-d1e4-49cb-c31c-2c482851e575"
      },
      "execution_count": null,
      "outputs": [
        {
          "output_type": "stream",
          "name": "stdout",
          "text": [
            "Agus PSHT\n",
            "Toni PSHT\n",
            "Gugun PSHT\n"
          ]
        }
      ]
    },
    {
      "cell_type": "code",
      "source": [
        "def my_function(*kids):\n",
        "  print(\"The youngest child is \" + kids[0])\n",
        "\n",
        "my_function(\"jepun\", \"Jimin\", \"Tukimin\")\n"
      ],
      "metadata": {
        "colab": {
          "base_uri": "https://localhost:8080/"
        },
        "id": "cHf9R3xcoiRw",
        "outputId": "f947d0fa-d4f8-4aec-b97d-573042d61e16"
      },
      "execution_count": null,
      "outputs": [
        {
          "output_type": "stream",
          "name": "stdout",
          "text": [
            "The youngest child is jepun\n"
          ]
        }
      ]
    },
    {
      "cell_type": "code",
      "source": [
        "def my_function(child3, child2, child1):\n",
        "  print(\"The youngest child is \" + child1)\n",
        "\n",
        "my_function(child1 = \"Lekyung\", child2 = \"Tukimin\", child3 = \"Jimin\")"
      ],
      "metadata": {
        "colab": {
          "base_uri": "https://localhost:8080/"
        },
        "id": "bl-6Z9hvo4GB",
        "outputId": "e4ec0105-4d72-403e-bb17-81bbee120bc3"
      },
      "execution_count": null,
      "outputs": [
        {
          "output_type": "stream",
          "name": "stdout",
          "text": [
            "The youngest child is Lekyung\n"
          ]
        }
      ]
    },
    {
      "cell_type": "code",
      "source": [
        "def my_function(food):\n",
        "  for x in food:\n",
        "    print(x)\n",
        "\n",
        "fruits = [\"apple\", \"banana\", \"cherry\"]\n",
        "\n",
        "my_function(fruits)"
      ],
      "metadata": {
        "colab": {
          "base_uri": "https://localhost:8080/"
        },
        "id": "Me7ZmFgzpZz5",
        "outputId": "51295d41-b8ea-4181-a0b6-bab4c1609008"
      },
      "execution_count": null,
      "outputs": [
        {
          "output_type": "stream",
          "name": "stdout",
          "text": [
            "apple\n",
            "banana\n",
            "cherry\n"
          ]
        }
      ]
    },
    {
      "cell_type": "code",
      "source": [
        "def tri_recursion(k):\n",
        "  if(k > 0):\n",
        "    result = k + tri_recursion(k - 1)\n",
        "    print(result)\n",
        "  else:\n",
        "    result = 0\n",
        "  return result\n",
        "\n",
        "\n",
        "tri_recursion(6)"
      ],
      "metadata": {
        "colab": {
          "base_uri": "https://localhost:8080/"
        },
        "id": "P80IIjLLp9DI",
        "outputId": "eeb7f4ef-7126-4aec-a2dc-02174f5a379f"
      },
      "execution_count": null,
      "outputs": [
        {
          "output_type": "stream",
          "name": "stdout",
          "text": [
            "1\n",
            "3\n",
            "6\n",
            "10\n",
            "15\n",
            "21\n"
          ]
        },
        {
          "output_type": "execute_result",
          "data": {
            "text/plain": [
              "21"
            ]
          },
          "metadata": {},
          "execution_count": 30
        }
      ]
    },
    {
      "cell_type": "code",
      "execution_count": null,
      "metadata": {
        "colab": {
          "base_uri": "https://localhost:8080/"
        },
        "id": "GOXDwbSEkD1h",
        "outputId": "356c19ac-e6b6-4563-9acd-a0fc4cce5d6e"
      },
      "outputs": [
        {
          "output_type": "stream",
          "name": "stdout",
          "text": [
            "Masukkan bilangan: 3\n",
            "Nilai faktorial dari 3 adalah 6\n"
          ]
        }
      ],
      "source": [
        "# Weekly 1\n",
        "# Fungsi rekursif untuk menghitung faktorial\n",
        "def faktorial(n):\n",
        "    if n == 0 or n == 1:\n",
        "        return 1\n",
        "    else:\n",
        "        return n * faktorial(n - 1)\n",
        "\n",
        "# Meminta input dari pengguna\n",
        "n = int(input(\"Masukkan bilangan: \"))\n",
        "hasil = faktorial(n)\n",
        "print(f\"Nilai faktorial dari {n} adalah {hasil}\")"
      ]
    },
    {
      "cell_type": "code",
      "source": [
        "# Weekly 2\n",
        "import math\n",
        "\n",
        "# untuk menghitung luas lingkaran\n",
        "def luas_lingkaran(jari_jari):\n",
        "    return math.pi * jari_jari ** 2\n",
        "\n",
        "# untuk menghitung luas persegi\n",
        "def luas_persegi(sisi):\n",
        "    return sisi ** 2\n",
        "\n",
        "# untuk menghitung luas segitiga\n",
        "def luas_segitiga(alas, tinggi):\n",
        "    return 0.5 * alas * tinggi\n",
        "\n",
        "# Fungsi utama\n",
        "def kalkulator_luas():\n",
        "    while True:\n",
        "        print(\"\\nPilih perhitungan luas:\")\n",
        "        print(\"1. Luas Lingkaran\")\n",
        "        print(\"2. Luas Persegi\")\n",
        "        print(\"3. Luas Segitiga\")\n",
        "        print(\"4. Selesai\")\n",
        "\n",
        "        pilihan = input(\"Masukkan pilihan (1/2/3/4): \")\n",
        "\n",
        "        if pilihan == '1':\n",
        "            jari_jari = float(input(\"Masukkan jari-jari lingkaran: \"))\n",
        "            print(f\"Luas lingkaran adalah {luas_lingkaran(jari_jari):.2f}\")\n",
        "        elif pilihan == '2':\n",
        "            sisi = float(input(\"Masukkan sisi persegi: \"))\n",
        "            print(f\"Luas persegi adalah {luas_persegi(sisi):.2f}\")\n",
        "        elif pilihan == '3':\n",
        "            alas = float(input(\"Masukkan alas segitiga: \"))\n",
        "            tinggi = float(input(\"Masukkan tinggi segitiga: \"))\n",
        "            print(f\"Luas segitiga adalah {luas_segitiga(alas, tinggi):.2f}\")\n",
        "        elif pilihan == '4':\n",
        "            print(\"Program selesai.\")\n",
        "            break\n",
        "        else:\n",
        "            print(\"Pilihan tidak valid, silakan coba lagi.\")\n",
        "\n",
        "# Untuk menjalankan program\n",
        "kalkulator_luas()\n"
      ],
      "metadata": {
        "colab": {
          "base_uri": "https://localhost:8080/"
        },
        "id": "2IeF_M6xrXd3",
        "outputId": "a9052265-3b70-4f16-bf6f-ea81110bc158"
      },
      "execution_count": null,
      "outputs": [
        {
          "output_type": "stream",
          "name": "stdout",
          "text": [
            "\n",
            "Pilih perhitungan luas:\n",
            "1. Luas Lingkaran\n",
            "2. Luas Persegi\n",
            "3. Luas Segitiga\n",
            "4. Selesai\n",
            "Masukkan pilihan (1/2/3/4): 1\n",
            "Masukkan jari-jari lingkaran: 7\n",
            "Luas lingkaran adalah 153.94\n",
            "\n",
            "Pilih perhitungan luas:\n",
            "1. Luas Lingkaran\n",
            "2. Luas Persegi\n",
            "3. Luas Segitiga\n",
            "4. Selesai\n",
            "Masukkan pilihan (1/2/3/4): 2\n",
            "Masukkan sisi persegi: 2\n",
            "Luas persegi adalah 4.00\n",
            "\n",
            "Pilih perhitungan luas:\n",
            "1. Luas Lingkaran\n",
            "2. Luas Persegi\n",
            "3. Luas Segitiga\n",
            "4. Selesai\n",
            "Masukkan pilihan (1/2/3/4): 3\n",
            "Masukkan alas segitiga: 2\n",
            "Masukkan tinggi segitiga: 2\n",
            "Luas segitiga adalah 2.00\n",
            "\n",
            "Pilih perhitungan luas:\n",
            "1. Luas Lingkaran\n",
            "2. Luas Persegi\n",
            "3. Luas Segitiga\n",
            "4. Selesai\n",
            "Masukkan pilihan (1/2/3/4): 4\n",
            "Program selesai.\n"
          ]
        }
      ]
    }
  ]
}