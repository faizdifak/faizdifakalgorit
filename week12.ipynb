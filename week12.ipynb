{
  "nbformat": 4,
  "nbformat_minor": 0,
  "metadata": {
    "colab": {
      "provenance": [],
      "authorship_tag": "ABX9TyOtgrl4Wgj4AVfFZty7+Srp",
      "include_colab_link": true
    },
    "kernelspec": {
      "name": "python3",
      "display_name": "Python 3"
    },
    "language_info": {
      "name": "python"
    }
  },
  "cells": [
    {
      "cell_type": "markdown",
      "metadata": {
        "id": "view-in-github",
        "colab_type": "text"
      },
      "source": [
        "<a href=\"https://colab.research.google.com/github/faizdifak/faizdifakalgorit/blob/master/week12.ipynb\" target=\"_parent\"><img src=\"https://colab.research.google.com/assets/colab-badge.svg\" alt=\"Open In Colab\"/></a>"
      ]
    },
    {
      "cell_type": "code",
      "source": [
        "#weekly 1\n",
        "def hitung_luas_lingkaran():\n",
        "    while True:\n",
        "        try:\n",
        "            jari_jari = input(\"Masukkan jari-jari lingkaran: \")\n",
        "            if not jari_jari:\n",
        "                raise ValueError(\"tidak boleh kosong\")  # Raise for empty input\n",
        "            jari_jari = float(jari_jari)\n",
        "            luas = 3.14 * jari_jari ** 2\n",
        "            print(f\"Luas lingkaran adalah {luas}\")\n",
        "            break\n",
        "        except ValueError as ve:\n",
        "            if str(ve) == \"tidak boleh kosong\":\n",
        "                print(ve)  # Print \"tidak boleh kosong\" if that's the error\n",
        "            else:\n",
        "                print(\"Error: hanya boleh memasukkan angka\")\n",
        "\n",
        "def hitung_luas_persegi():\n",
        "    while True:\n",
        "        try:\n",
        "            sisi = input(\"Masukkan panjang sisi persegi: \")\n",
        "            if not sisi:\n",
        "                raise ValueError(\"tidak boleh kosong\")  # Raise for empty input\n",
        "            sisi = float(sisi)\n",
        "            luas = sisi ** 2\n",
        "            print(f\"Luas persegi adalah {luas}\")\n",
        "            break\n",
        "        except ValueError as ve:\n",
        "            if str(ve) == \"tidak boleh kosong\":\n",
        "                print(ve)  # Print \"tidak boleh kosong\" if that's the error\n",
        "            else:\n",
        "                print(\"Error: hanya boleh memasukkan angka\")\n",
        "\n",
        "# Memanggil fungsi\n",
        "hitung_luas_lingkaran()\n",
        "hitung_luas_persegi()"
      ],
      "metadata": {
        "colab": {
          "base_uri": "https://localhost:8080/"
        },
        "id": "LxhA_DpvzRFr",
        "outputId": "a2313120-17b2-4b74-f565-938134941eac"
      },
      "execution_count": null,
      "outputs": [
        {
          "output_type": "stream",
          "name": "stdout",
          "text": [
            "Masukkan jari-jari lingkaran: \n",
            "tidak boleh kosong\n",
            "Masukkan jari-jari lingkaran: lima\n",
            "Error: hanya boleh memasukkan angka\n",
            "Masukkan jari-jari lingkaran: 7\n",
            "Luas lingkaran adalah 153.86\n",
            "Masukkan panjang sisi persegi: \n",
            "tidak boleh kosong\n",
            "Masukkan panjang sisi persegi: lima\n",
            "Error: hanya boleh memasukkan angka\n",
            "Masukkan panjang sisi persegi: 2\n",
            "Luas persegi adalah 4.0\n"
          ]
        }
      ]
    },
    {
      "cell_type": "code",
      "source": [
        "#weekly 2\n",
        "while True:\n",
        "    try:\n",
        "        npm = input(\"Masukkan NPM Anda: \")\n",
        "        if not npm.strip():  # Menghapus spasi sebelum mengecek\n",
        "          raise ValueError(\"NPM tidak boleh kosong!\")\n",
        "        if not npm.isdigit():\n",
        "            raise ValueError(\"NPM harus berisi angka!\")\n",
        "        if len(npm) != 10:\n",
        "            raise ValueError(\"NPM harus terdiri dari 10 digit!\")\n",
        "\n",
        "        genap = 0\n",
        "        ganjil = 0\n",
        "\n",
        "        for i in npm:\n",
        "            if int(i) % 2 == 0:\n",
        "                genap += 1\n",
        "            else:\n",
        "                ganjil += 1\n",
        "        print(f\"jumlah bilangan genap: {genap}\") #print jumlah bilangan genap, changed jumlah_genap to genap\n",
        "        print(f\"jumlah bilangan ganjil: {ganjil}\") #print jumlah bilangan ganjil, changed jumlah_ganjil to ganjil\n",
        "        break  # The break statement is now inside the try block\n",
        "    except ValueError as e:\n",
        "        print(e)"
      ],
      "metadata": {
        "colab": {
          "base_uri": "https://localhost:8080/"
        },
        "id": "SPRpWptB18v4",
        "outputId": "ffefb6ef-0920-419f-b617-255effecc4c2"
      },
      "execution_count": null,
      "outputs": [
        {
          "output_type": "stream",
          "name": "stdout",
          "text": [
            "Masukkan NPM Anda: \n",
            "NPM tidak boleh kosong!\n",
            "Masukkan NPM Anda: lima\n",
            "NPM harus berisi angka!\n",
            "Masukkan NPM Anda: 2420506022\n",
            "jumlah bilangan genap: 9\n",
            "jumlah bilangan ganjil: 1\n"
          ]
        }
      ]
    }
  ]
}