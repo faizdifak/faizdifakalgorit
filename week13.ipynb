{
  "nbformat": 4,
  "nbformat_minor": 0,
  "metadata": {
    "colab": {
      "provenance": [],
      "authorship_tag": "ABX9TyMghW0mD3LoORYaTAR4i66L",
      "include_colab_link": true
    },
    "kernelspec": {
      "name": "python3",
      "display_name": "Python 3"
    },
    "language_info": {
      "name": "python"
    }
  },
  "cells": [
    {
      "cell_type": "markdown",
      "metadata": {
        "id": "view-in-github",
        "colab_type": "text"
      },
      "source": [
        "<a href=\"https://colab.research.google.com/github/faizdifak/faizdifakalgorit/blob/master/week13.ipynb\" target=\"_parent\"><img src=\"https://colab.research.google.com/assets/colab-badge.svg\" alt=\"Open In Colab\"/></a>"
      ]
    },
    {
      "cell_type": "code",
      "execution_count": null,
      "metadata": {
        "colab": {
          "base_uri": "https://localhost:8080/"
        },
        "id": "sZrLldaivoHS",
        "outputId": "09030a2e-43d0-42c8-a652-3364f92e712e"
      },
      "outputs": [
        {
          "output_type": "stream",
          "name": "stdout",
          "text": [
            "Faiz\n",
            "20\n"
          ]
        }
      ],
      "source": [
        "#__init__ () function\n",
        "class Person:\n",
        " def __init__(self, name, age):\n",
        "  self.name = name\n",
        "  self.age = age\n",
        "\n",
        "p1 = Person(\"Faiz\", 20)\n",
        "\n",
        "print(p1.name)\n",
        "print(p1.age)\n"
      ]
    },
    {
      "cell_type": "code",
      "source": [
        "#__str__ () function\n",
        "class Person:\n",
        " def __init__(self, name, age):\n",
        "  self.name = name\n",
        "  self.age = age\n",
        "\n",
        " def __str__(self):\n",
        "   return f\"{self.name}({self.age})\"\n",
        "\n",
        "p1 = Person(\"Faiz\", 20)\n",
        "\n",
        "print(p1)"
      ],
      "metadata": {
        "colab": {
          "base_uri": "https://localhost:8080/"
        },
        "id": "D_K54L2wxBLv",
        "outputId": "9864ffc0-eb5f-424d-c302-e5d3af8448fe"
      },
      "execution_count": null,
      "outputs": [
        {
          "output_type": "stream",
          "name": "stdout",
          "text": [
            "Faiz(20)\n"
          ]
        }
      ]
    },
    {
      "cell_type": "code",
      "source": [
        "#Object Method\n",
        "class Person:\n",
        "  def __init__(self, name, age):\n",
        "    self.name = name\n",
        "    self.age = age\n",
        "\n",
        "  def myfunc(self):\n",
        "    print(\"Hello my name is \" + self.name)\n",
        "\n",
        "p1 = Person(\"Faiz\", 20)\n",
        "p1.myfunc()"
      ],
      "metadata": {
        "colab": {
          "base_uri": "https://localhost:8080/"
        },
        "id": "8ippMn5Fx6fn",
        "outputId": "5147a1ee-74d7-4c10-e77a-6a73e1bbb8b9"
      },
      "execution_count": null,
      "outputs": [
        {
          "output_type": "stream",
          "name": "stdout",
          "text": [
            "Hello my name is Faiz\n"
          ]
        }
      ]
    },
    {
      "cell_type": "code",
      "source": [
        "#Create a parents class\n",
        "class Person:\n",
        "  def __init__(self, fname, lname):\n",
        "    self.firstname = fname\n",
        "    self.lastname = lname\n",
        "\n",
        "  def printname(self):\n",
        "    print(self.firstname, self.lastname)\n",
        "\n",
        "#Use the Person class to create an object, and then execute the printname method:\n",
        "\n",
        "x = Person(\"Faiz\", \"Difa\")\n",
        "x.printname()"
      ],
      "metadata": {
        "colab": {
          "base_uri": "https://localhost:8080/"
        },
        "id": "Oi51S5R0yjEn",
        "outputId": "644255fa-f945-4fc0-8832-a46fc86d95e1"
      },
      "execution_count": null,
      "outputs": [
        {
          "output_type": "stream",
          "name": "stdout",
          "text": [
            "Faiz Difa\n"
          ]
        }
      ]
    },
    {
      "cell_type": "code",
      "source": [
        "#Create a child class\n",
        "x = Person(\"Faiz\", \"Kurniawan\")\n",
        "x.printname()"
      ],
      "metadata": {
        "colab": {
          "base_uri": "https://localhost:8080/"
        },
        "id": "qjaZW3GpyzAv",
        "outputId": "a91c7e57-31d6-4547-ac09-2878beb4eb1e"
      },
      "execution_count": null,
      "outputs": [
        {
          "output_type": "stream",
          "name": "stdout",
          "text": [
            "Faiz Kurniawan\n"
          ]
        }
      ]
    },
    {
      "cell_type": "code",
      "source": [
        "#iterator\n",
        "mytuple = (\"Faiz\", \"Difa\", \"Kurniawan\")\n",
        "myit = iter(mytuple)\n",
        "\n",
        "print(next(myit))\n",
        "print(next(myit))\n",
        "print(next(myit))"
      ],
      "metadata": {
        "colab": {
          "base_uri": "https://localhost:8080/"
        },
        "id": "2wHb5-mMz0Lv",
        "outputId": "18a63300-ca56-4037-a651-b5bd3383c2fa"
      },
      "execution_count": null,
      "outputs": [
        {
          "output_type": "stream",
          "name": "stdout",
          "text": [
            "Faiz\n",
            "Difa\n",
            "Kurniawan\n"
          ]
        }
      ]
    },
    {
      "cell_type": "code",
      "source": [
        "#iterable\n",
        "mystr = \"Faiz\"\n",
        "myit = iter(mystr)\n",
        "print(next(myit))\n",
        "print(next(myit))\n",
        "print(next(myit))\n",
        "print(next(myit))"
      ],
      "metadata": {
        "colab": {
          "base_uri": "https://localhost:8080/"
        },
        "id": "MaXWu-Agz8Wn",
        "outputId": "3a16931c-5a56-492c-a056-265fc7c25b73"
      },
      "execution_count": null,
      "outputs": [
        {
          "output_type": "stream",
          "name": "stdout",
          "text": [
            "F\n",
            "a\n",
            "i\n",
            "z\n"
          ]
        }
      ]
    },
    {
      "cell_type": "code",
      "source": [
        "# function polymorphism\n",
        "#string\n",
        "x = \"Hallo Bro\"\n",
        "print(len(x))"
      ],
      "metadata": {
        "colab": {
          "base_uri": "https://localhost:8080/"
        },
        "id": "Wljzmu4r2NgA",
        "outputId": "32d4ac37-a567-4941-8761-c2d673ffdb86"
      },
      "execution_count": null,
      "outputs": [
        {
          "output_type": "stream",
          "name": "stdout",
          "text": [
            "9\n"
          ]
        }
      ]
    },
    {
      "cell_type": "code",
      "source": [
        "# function polymorphism\n",
        "#tuple\n",
        "mytuple = (\"Faiz\", \"Difa\", \"Kurniawan\")\n",
        "print(len(mytuple))"
      ],
      "metadata": {
        "colab": {
          "base_uri": "https://localhost:8080/"
        },
        "id": "ahoqG0QL2xOw",
        "outputId": "777f9d6d-58f5-4939-99a6-2083e7a646f7"
      },
      "execution_count": null,
      "outputs": [
        {
          "output_type": "stream",
          "name": "stdout",
          "text": [
            "3\n"
          ]
        }
      ]
    },
    {
      "cell_type": "code",
      "source": [
        "# function polymorphism\n",
        "# dictionary\n",
        "thisdict = {\n",
        "  \"brand\": \"Adibos\",\n",
        "  \"model\": \"daun tiga\",\n",
        "  \"year\": 1964\n",
        "}\n",
        "\n",
        "print(len(thisdict))"
      ],
      "metadata": {
        "colab": {
          "base_uri": "https://localhost:8080/"
        },
        "id": "bQ2Yt5-B3EY5",
        "outputId": "fbbcf1dd-849d-4fe9-a0ca-14dfc4d1287c"
      },
      "execution_count": null,
      "outputs": [
        {
          "output_type": "stream",
          "name": "stdout",
          "text": [
            "3\n"
          ]
        }
      ]
    },
    {
      "cell_type": "code",
      "source": [
        "#Weekly 1\n",
        "class AlatTulis:\n",
        "    def __init__(self, nama, stok, harga_satuan):\n",
        "        self.nama = nama\n",
        "        self.stok = stok\n",
        "        self.harga_satuan = harga_satuan\n",
        "        self.harga = stok * harga_satuan\n",
        "\n",
        "    # Setter methods\n",
        "    def set_nama(self, nama):\n",
        "        self.nama = nama\n",
        "\n",
        "    def set_stok(self, stok):\n",
        "        self.stok = stok\n",
        "        self.harga = self.stok * self.harga_satuan\n",
        "\n",
        "    def set_harga_satuan(self, harga_satuan):\n",
        "        self.harga_satuan = harga_satuan\n",
        "        self.harga = self.stok * self.harga_satuan\n",
        "\n",
        "    def set_harga(self):\n",
        "        self.harga = self.stok * self.harga_satuan\n",
        "\n",
        "    # Getter methods\n",
        "    def get_nama(self):\n",
        "        return self.nama\n",
        "\n",
        "    def get_stok(self):\n",
        "        return self.stok\n",
        "\n",
        "    def get_harga_satuan(self):\n",
        "        return self.harga_satuan\n",
        "\n",
        "    def get_harga(self):\n",
        "        return self.harga\n",
        "\n",
        "# Main program\n",
        "bolpoint = AlatTulis(\"Bolpoint\", 10, 2000)\n",
        "pensil = AlatTulis(\"Pensil\", 10, 1000)\n",
        "penghapus = AlatTulis(\"Penghapus\", 10, 500)\n",
        "\n",
        "def total_harga(*barang):\n",
        "    total = 0\n",
        "    for item in barang:\n",
        "        total += item.get_harga()\n",
        "    return total\n",
        "\n",
        "print(f'Nama: {bolpoint.get_nama()}, Stok: {bolpoint.get_stok()}, Harga Satuan: Rp.{bolpoint.get_harga_satuan()}, Harga: Rp.{bolpoint.get_harga()}')\n",
        "print(f'Nama: {pensil.get_nama()}, Stok: {pensil.get_stok()}, Harga Satuan: Rp.{pensil.get_harga_satuan()}, Harga: Rp.{pensil.get_harga()}')\n",
        "print(f'Nama: {penghapus.get_nama()}, Stok: {penghapus.get_stok()}, Harga Satuan: Rp.{penghapus.get_harga_satuan()}, Harga: Rp.{penghapus.get_harga()}')\n",
        "\n",
        "print(f'Total Harga: Rp.{total_harga(bolpoint, pensil, penghapus)}')\n"
      ],
      "metadata": {
        "colab": {
          "base_uri": "https://localhost:8080/"
        },
        "id": "0A6fuzA6FX8s",
        "outputId": "eb26eb68-8b38-41dd-b6ef-a0ffd11229bc"
      },
      "execution_count": null,
      "outputs": [
        {
          "output_type": "stream",
          "name": "stdout",
          "text": [
            "Nama: Bolpoint, Stok: 10, Harga Satuan: Rp.2000, Harga: Rp.20000\n",
            "Nama: Pensil, Stok: 10, Harga Satuan: Rp.1000, Harga: Rp.10000\n",
            "Nama: Penghapus, Stok: 10, Harga Satuan: Rp.500, Harga: Rp.5000\n",
            "Total Harga: Rp.35000\n"
          ]
        }
      ]
    }
  ]
}