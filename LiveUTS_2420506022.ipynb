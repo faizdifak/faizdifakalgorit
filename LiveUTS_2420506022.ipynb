{
  "nbformat": 4,
  "nbformat_minor": 0,
  "metadata": {
    "colab": {
      "provenance": [],
      "authorship_tag": "ABX9TyNh3jCqfnbRQ9+G4Z0sFbz0",
      "include_colab_link": true
    },
    "kernelspec": {
      "name": "python3",
      "display_name": "Python 3"
    },
    "language_info": {
      "name": "python"
    }
  },
  "cells": [
    {
      "cell_type": "markdown",
      "metadata": {
        "id": "view-in-github",
        "colab_type": "text"
      },
      "source": [
        "<a href=\"https://colab.research.google.com/github/faizdifak/faizdifakalgorit/blob/master/LiveUTS_2420506022.ipynb\" target=\"_parent\"><img src=\"https://colab.research.google.com/assets/colab-badge.svg\" alt=\"Open In Colab\"/></a>"
      ]
    },
    {
      "cell_type": "code",
      "execution_count": null,
      "metadata": {
        "id": "51fIyaIjXkSt"
      },
      "outputs": [],
      "source": [
        "# 1"
      ]
    },
    {
      "cell_type": "code",
      "source": [
        "#inputkan NPM\n",
        "NPM = input(\"Masukkan NPM\")\n",
        "\n",
        "print(f\"jumlah bilangan genap: {jumlah_genap}\") #print jumlah bilangan genap\n",
        "print(f\"jumlah bilangan ganjil: {jumlah_ganjil}\") #print jumlah bilangan ganjil\n",
        "\n",
        "#function definition\n",
        "def jumlah_bilangan_ganjil_genap(NPM):\n",
        "  jumlah_genap = 0 #perhitungan dimulai dari 0\n",
        "  jumlah_ganjil = 0 #perhitungan dimulai dari 0\n",
        "  for digit in str(NPM):\n",
        "    if int(i) % 2 == 0:\n",
        "         jumlah_genap += 1 #fungsi untuk jumlah genap\n",
        "    else:\n",
        "        jumlah_ganjil += 1 #Fungsi untuk jumlah ganjil\n",
        "#return statement outside the loop\n",
        "    return jumlah_ganjil, jumlah_genap\n",
        "\n",
        "\n",
        "\n",
        "\n",
        "\n",
        "\n",
        "\n"
      ],
      "metadata": {
        "colab": {
          "base_uri": "https://localhost:8080/"
        },
        "id": "GqpQQCaPYhes",
        "outputId": "7cd46cbf-32fe-4789-b813-246b87e3629e"
      },
      "execution_count": null,
      "outputs": [
        {
          "output_type": "stream",
          "name": "stdout",
          "text": [
            "Masukkan NPM2420506022\n",
            "jumlah bilangan genap: 9\n",
            "jumlah bilangan ganjil: 1\n"
          ]
        }
      ]
    },
    {
      "cell_type": "code",
      "source": [
        "#2\n",
        "#masukkan input int\n",
        "num = int(input(\"Masukkan angka:\"))\n",
        "\n",
        "for i in range(1, num + 1):\n",
        "    for j in range(1, i + 1):\n",
        "        print(j * i, end=\" \")\n",
        "    print()"
      ],
      "metadata": {
        "colab": {
          "base_uri": "https://localhost:8080/"
        },
        "id": "B2YQDM9Ye5MW",
        "outputId": "ac9d5acd-4107-489e-baa6-977d055cf8da"
      },
      "execution_count": null,
      "outputs": [
        {
          "output_type": "stream",
          "name": "stdout",
          "text": [
            "Masukkan angka:10\n",
            "1 \n",
            "2 4 \n",
            "3 6 9 \n",
            "4 8 12 16 \n",
            "5 10 15 20 25 \n",
            "6 12 18 24 30 36 \n",
            "7 14 21 28 35 42 49 \n",
            "8 16 24 32 40 48 56 64 \n",
            "9 18 27 36 45 54 63 72 81 \n",
            "10 20 30 40 50 60 70 80 90 100 \n"
          ]
        }
      ]
    }
  ]
}