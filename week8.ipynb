{
  "nbformat": 4,
  "nbformat_minor": 0,
  "metadata": {
    "colab": {
      "provenance": [],
      "authorship_tag": "ABX9TyNLY9xLkq3mG/mhfxszlOwb",
      "include_colab_link": true
    },
    "kernelspec": {
      "name": "python3",
      "display_name": "Python 3"
    },
    "language_info": {
      "name": "python"
    }
  },
  "cells": [
    {
      "cell_type": "markdown",
      "metadata": {
        "id": "view-in-github",
        "colab_type": "text"
      },
      "source": [
        "<a href=\"https://colab.research.google.com/github/faizdifak/faizdifakalgorit/blob/master/week8.ipynb\" target=\"_parent\"><img src=\"https://colab.research.google.com/assets/colab-badge.svg\" alt=\"Open In Colab\"/></a>"
      ]
    },
    {
      "cell_type": "code",
      "source": [
        "#Latihan 1\n",
        "list\n",
        "#adalah kumpulan elemen atau kata yang bisa berupa berbagai tipe yang dapat diubah(mutable)\n",
        "#list dapat merubah kata,remove,duplikat,dan mengurutkan elemen tetap\n",
        "#sintaksnya:\n",
        "my_list = [1, 2, 3, 'a', 'b', 'c']\n",
        "\n",
        "tuple\n",
        "#adalah kumpulan elemen atau kata yang bisa berbagai tipe data yang tidak bisa diubah(immutable)\n",
        "#tuple dapat menampung duplikat,elemen tidak dapat dirubah,urutan elemen tetap\n",
        "#sintaknya:\n",
        "my_tuple = (1, 2, 3, 'a', 'b', 'c')\n",
        "#contoh penggunaanya\n",
        "\n",
        "set\n",
        "#adalah kumpulan elemen unik yang tidak tidak terurut dan tidak diindeks\n",
        "#set tidak bisa menamapung duplikat,elemen dapat dirubah,elemen tetap\n",
        "#sintaknya:\n",
        "my_set = {1, 2, 3, 'a', 'b', 'c'}\n",
        "\n",
        "dictionary\n",
        "#adalah kumpulan pasangan kunci-nilai(key-value) yang tidak terurut dan tidak diindeks\n",
        "#dictonary nilai dapat diubah,kunci harus unik,urutan elemen tetap\n",
        "#sintaknya:\n",
        "my_dict = {'key1': 'value1', 'key2': 'value2'}"
      ],
      "metadata": {
        "id": "Pg_4nQpko8NP",
        "colab": {
          "base_uri": "https://localhost:8080/"
        },
        "collapsed": true,
        "outputId": "cd005d12-ae9d-4d07-8dac-11acc232fa65"
      },
      "execution_count": 2,
      "outputs": [
        {
          "output_type": "stream",
          "name": "stdout",
          "text": [
            "['Magelang', 'informasi', 4, 5, True]\n"
          ]
        }
      ]
    },
    {
      "cell_type": "code",
      "source": [
        "#contoh penggunaan list\n",
        "list = [\"Magelang\", \"bunga\", \"merah\", \"putih\"]\n",
        "print(list)"
      ],
      "metadata": {
        "colab": {
          "base_uri": "https://localhost:8080/"
        },
        "id": "4bYFUen1eTJU",
        "outputId": "e41a37c8-0c64-4b09-cdc5-cf036fca3a95"
      },
      "execution_count": 3,
      "outputs": [
        {
          "output_type": "stream",
          "name": "stdout",
          "text": [
            "['Magelang', 'bunga', 'merah', 'putih']\n"
          ]
        }
      ]
    },
    {
      "cell_type": "code",
      "source": [
        "print(list[2]) # untuk mencari data ke dua dari data"
      ],
      "metadata": {
        "colab": {
          "base_uri": "https://localhost:8080/"
        },
        "id": "S84l-R_Vet6c",
        "outputId": "561b16ef-bcf2-48d4-db3e-b27a3b0bb21f"
      },
      "execution_count": 5,
      "outputs": [
        {
          "output_type": "stream",
          "name": "stdout",
          "text": [
            "merah\n"
          ]
        }
      ]
    },
    {
      "cell_type": "code",
      "source": [
        "# untuk penggantian data\n",
        "list[0]=\"Sejuta\"\n",
        "print(list)"
      ],
      "metadata": {
        "colab": {
          "base_uri": "https://localhost:8080/"
        },
        "id": "3zOjqJAEfB2E",
        "outputId": "229c988d-7951-46de-c905-13c260efd899"
      },
      "execution_count": 6,
      "outputs": [
        {
          "output_type": "stream",
          "name": "stdout",
          "text": [
            "['Sejuta', 'bunga', 'merah', 'putih']\n"
          ]
        }
      ]
    },
    {
      "cell_type": "code",
      "source": [
        "#contoh penggunaan Tuple\n",
        "tuple = (\"magelang\", \"bunga\", \"merah\", \"putih\")\n",
        "print(tuple)"
      ],
      "metadata": {
        "colab": {
          "base_uri": "https://localhost:8080/"
        },
        "id": "6iIn_DP6fhsr",
        "outputId": "76ff2330-05df-40e7-b5f1-d7e16bbb916a"
      },
      "execution_count": 7,
      "outputs": [
        {
          "output_type": "stream",
          "name": "stdout",
          "text": [
            "('magelang', 'bunga', 'merah', 'putih')\n"
          ]
        }
      ]
    },
    {
      "cell_type": "code",
      "source": [
        "print(tuple[3]) #untuk mencari data ke tiga"
      ],
      "metadata": {
        "colab": {
          "base_uri": "https://localhost:8080/"
        },
        "id": "3kMvMe6cfuPK",
        "outputId": "e4f9cc00-2f73-45ad-d31e-a38ae34f4702"
      },
      "execution_count": 8,
      "outputs": [
        {
          "output_type": "stream",
          "name": "stdout",
          "text": [
            "putih\n"
          ]
        }
      ]
    },
    {
      "cell_type": "code",
      "source": [
        "#untuk penggantian data di tuple tidak bisa mengganti data yang sudah ada maka output error\n",
        "tuple[0]= \"magelang\""
      ],
      "metadata": {
        "colab": {
          "base_uri": "https://localhost:8080/",
          "height": 158
        },
        "id": "GEob6vaWf7AS",
        "outputId": "36f7f586-0bcb-4141-c970-af94562189a0"
      },
      "execution_count": 26,
      "outputs": [
        {
          "output_type": "error",
          "ename": "TypeError",
          "evalue": "'tuple' object does not support item assignment",
          "traceback": [
            "\u001b[0;31m---------------------------------------------------------------------------\u001b[0m",
            "\u001b[0;31mTypeError\u001b[0m                                 Traceback (most recent call last)",
            "\u001b[0;32m<ipython-input-26-fc6aca7db874>\u001b[0m in \u001b[0;36m<cell line: 2>\u001b[0;34m()\u001b[0m\n\u001b[1;32m      1\u001b[0m \u001b[0;31m#untuk penggantian data tuple tidak bisa mengganti data yang sudah ada maka output error\u001b[0m\u001b[0;34m\u001b[0m\u001b[0;34m\u001b[0m\u001b[0m\n\u001b[0;32m----> 2\u001b[0;31m \u001b[0mtuple\u001b[0m\u001b[0;34m[\u001b[0m\u001b[0;36m0\u001b[0m\u001b[0;34m]\u001b[0m\u001b[0;34m=\u001b[0m \u001b[0;34m\"magelang\"\u001b[0m\u001b[0;34m\u001b[0m\u001b[0;34m\u001b[0m\u001b[0m\n\u001b[0m",
            "\u001b[0;31mTypeError\u001b[0m: 'tuple' object does not support item assignment"
          ]
        }
      ]
    },
    {
      "cell_type": "code",
      "source": [
        "#contoh penggunaan set\n",
        "set = {\"Magelang\",\"Magelang\", \"Bunga\", \"Merah\"} # dalam penggunaan set yang diotput jika ada data yg sama makan akan ditulis hanya 1\n",
        "print(set)"
      ],
      "metadata": {
        "colab": {
          "base_uri": "https://localhost:8080/"
        },
        "id": "8yhHNuX9gWYb",
        "outputId": "7991fe59-1052-41d9-bf53-afcfea766b9c"
      },
      "execution_count": 18,
      "outputs": [
        {
          "output_type": "stream",
          "name": "stdout",
          "text": [
            "{'Magelang', 'Bunga', 'Merah'}\n"
          ]
        }
      ]
    },
    {
      "cell_type": "code",
      "source": [
        "#contoh penggunaan dictionary\n",
        "dict = {\n",
        "    \"nama\" : \"Faiz\",\n",
        "    \"Rombel\" : \"1\",\n",
        "    \"prodi\" : \"TI\",\n",
        "    \"NPM\" : \"2420506022\"\n",
        "    }\n",
        "\n",
        "print(dict[\"nama\"]) #Untuk pengambilan data yang diinginkan\n",
        "print(dict[\"NPM\"])"
      ],
      "metadata": {
        "colab": {
          "base_uri": "https://localhost:8080/"
        },
        "id": "6KR9Q6OJgpYJ",
        "outputId": "5091334e-1927-476a-9e76-a763d50e38f4"
      },
      "execution_count": 25,
      "outputs": [
        {
          "output_type": "stream",
          "name": "stdout",
          "text": [
            "Faiz\n",
            "2420506022\n"
          ]
        }
      ]
    },
    {
      "cell_type": "code",
      "source": [
        "# Latihan 2 Program untuk mengelola dan menampilkan data mahasiswa\n",
        "mahasiswa = {\n",
        "    \"Nama\"          : \"Faiz Difa Kurniawan\",\n",
        "    \"Kelas\"         : \"1\",\n",
        "    \"Tanggal Lahir\" : \"24 November 2005\",\n",
        "    \"No HP\"         : \"083144667083\",\n",
        "    \"Alamat\"        : \"Perum Jembewangi,secang\",\n",
        "    \"Hobi\"          : [\"1.Badminton\", \"2.game\", \"3.lari\"]\n",
        "}\n",
        "urut = max(len(key) for key in mahasiswa.keys()) # untuk merapikan titik dua\n",
        "\n",
        "for key, value in mahasiswa.items():     #perulangan data mahasiswa\n",
        "    if key == \"Hobi\":\n",
        "        print(f\"{key.ljust(urut)} :\")\n",
        "        for hobi in value:\n",
        "            print(f\"{' '.ljust(urut)}    {hobi}\")\n",
        "    else:\n",
        "        print(f\"{key.ljust(urut)} : {value}\")"
      ],
      "metadata": {
        "colab": {
          "base_uri": "https://localhost:8080/"
        },
        "id": "f74P6NiOqwCH",
        "outputId": "ab6e1797-6d5e-450b-d9f9-a95cad459fc5"
      },
      "execution_count": 28,
      "outputs": [
        {
          "output_type": "stream",
          "name": "stdout",
          "text": [
            "Nama          : Faiz Difa Kurniawan\n",
            "Kelas         : 1\n",
            "Tanggal Lahir : 24 November 2005\n",
            "No HP         : 083144667083\n",
            "Alamat        : Perum Jembewangi,secang\n",
            "Hobi          :\n",
            "                 1.Badminton\n",
            "                 2.game\n",
            "                 3.lari\n"
          ]
        }
      ]
    }
  ]
}