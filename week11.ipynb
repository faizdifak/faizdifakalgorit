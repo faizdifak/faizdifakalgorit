{
  "nbformat": 4,
  "nbformat_minor": 0,
  "metadata": {
    "colab": {
      "provenance": [],
      "authorship_tag": "ABX9TyNG2ffU7MsfDh/315Ed8/cy",
      "include_colab_link": true
    },
    "kernelspec": {
      "name": "python3",
      "display_name": "Python 3"
    },
    "language_info": {
      "name": "python"
    }
  },
  "cells": [
    {
      "cell_type": "markdown",
      "metadata": {
        "id": "view-in-github",
        "colab_type": "text"
      },
      "source": [
        "<a href=\"https://colab.research.google.com/github/faizdifak/faizdifakalgorit/blob/master/week11.ipynb\" target=\"_parent\"><img src=\"https://colab.research.google.com/assets/colab-badge.svg\" alt=\"Open In Colab\"/></a>"
      ]
    },
    {
      "cell_type": "code",
      "source": [
        "# week 1\n",
        "import math\n",
        "jari_jari = float(input(\"Masukkan jari-jari lingkaran: \"))\n",
        "print(f\"Luas lingkaran adalah {math.pi*(jari_jari**2):.2f}\")\n",
        "sisi = float(input(\"Masukkan sisi persegi: \"))\n",
        "print(f\"Luas persegi adalah {(sisi*sisi):.2f}\")"
      ],
      "metadata": {
        "colab": {
          "base_uri": "https://localhost:8080/"
        },
        "id": "DOjxKizxAMga",
        "outputId": "ffd33099-4288-4d0f-e433-57ecdc183db5"
      },
      "execution_count": 22,
      "outputs": [
        {
          "output_type": "stream",
          "name": "stdout",
          "text": [
            "Masukkan jari-jari lingkaran: 7\n",
            "Luas lingkaran adalah 153.94\n",
            "Masukkan sisi persegi: 2\n",
            "Luas persegi adalah 4.00\n"
          ]
        }
      ]
    },
    {
      "cell_type": "code",
      "source": [
        "# Week 2\n",
        "import math\n",
        "\n",
        "math.comb(5,1)\n",
        "print(math.comb(5,1))\n",
        "\n",
        "math.factorial(5)\n",
        "print(math.factorial(5))\n",
        "\n",
        "math.ldexp(5,2)\n",
        "print(math.ldexp(5,2))\n",
        "\n",
        "math.sqrt(25)\n",
        "print(math.sqrt(25))\n",
        "\n",
        "math.sin(45)\n",
        "print(math.sin(45))"
      ],
      "metadata": {
        "colab": {
          "base_uri": "https://localhost:8080/"
        },
        "id": "gGid-e5TtJRC",
        "outputId": "39c51515-0026-4a7a-c962-04c051ccd522"
      },
      "execution_count": 19,
      "outputs": [
        {
          "output_type": "stream",
          "name": "stdout",
          "text": [
            "5\n",
            "120\n",
            "20.0\n",
            "5.0\n",
            "0.8509035245341184\n"
          ]
        }
      ]
    }
  ]
}